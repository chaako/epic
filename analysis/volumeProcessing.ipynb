{
 "metadata": {
  "name": "volumeProcessing"
 },
 "nbformat": 3,
 "nbformat_minor": 0,
 "worksheets": [
  {
   "cells": [
    {
     "cell_type": "code",
     "collapsed": false,
     "input": [
      "from vtk import *\n",
      "from math import *\n",
      "import numpy as np\n",
      "import matplotlib\n",
      "# Save as file and display instead of %pylab inline\n",
      "#matplotlib.use('svg')\n",
      "import matplotlib.pyplot as plt\n",
      "from mpl_toolkits.mplot3d import Axes3D\n",
      "import matplotlib.tri as tri\n",
      "import matplotlib.cm as cm\n",
      "import IPython.core.display as IPdisp"
     ],
     "language": "python",
     "metadata": {},
     "outputs": [],
     "prompt_number": 422
    },
    {
     "cell_type": "code",
     "collapsed": false,
     "input": [
      "#file_names = [\"/home/chaako/epic/src/testCase00.vtu\"]\n",
      "#file_names = [\"/home/chaako/epic/src/spheres_scan1000_narrow00.vtu\",\n",
      "#              \"/home/chaako/epic/src/spheres_scan4000_narrow00.vtu\",\n",
      "#              \"/home/chaako/epic/src/spheres_scan1000_00.vtu\"]\n",
      "#file_names = [\"/home/chaako/epic/src/runsTesting/dG16_01/spheres5_scan4000_narrow00.vtu\",\n",
      "#              \"/home/chaako/epic/src/spheres6_scan4000_narrow00.vtu\",\n",
      "#              \"/home/chaako/epic/src/spheres_scan4000_narrow00.vtu\"]\n",
      "#file_names = [\"/home/chaako/epic/src/runsTesting/dG22_10/spheres00_scan1000_narrow00.vtu\",\n",
      "#              \"/home/chaako/epic/src/runsTesting/dG22_11/spheres01_scan1000_narrow00.vtu\",\n",
      "#             \"/home/chaako/epic/src/runsTesting/dG22_12/spheres02_scan1000_narrow00.vtu\",\n",
      "#              \"/home/chaako/epic/src/runsTesting/dG22_13/spheres03_scan1000_narrow00.vtu\",\n",
      "#              \"/home/chaako/epic/src/runsTesting/dG22_14/spheres04_scan1000_narrow00.vtu\",\n",
      "#              \"/home/chaako/epic/src/runsTesting/dG22_15/spheres05_scan1000_narrow00.vtu\",\n",
      "#              \"/home/chaako/epic/src/runsTesting/dG22_16/spheres06_scan1000_narrow00.vtu\"]\n",
      "#file_names = [\"/home/chaako/meshtest/fromLoki/densityGradient40/densityGradient/spheres_iter00.vtu\"]\n",
      "file_names = [\"/home/chaako/meshtest/fromLoki/iterationTest23/iterationTest/spheres_iter00.vtu\"]\n",
      "vtk_readers = []\n",
      "for file_name in file_names:\n",
      "    reader = vtkXMLUnstructuredGridReader()\n",
      "    reader.SetFileName(file_name)\n",
      "    reader.Update()\n",
      "    vtk_readers.append(reader.GetOutput())\n",
      "vtk_mesh = vtk_readers[0]"
     ],
     "language": "python",
     "metadata": {},
     "outputs": [],
     "prompt_number": 423
    },
    {
     "cell_type": "code",
     "collapsed": false,
     "input": [
      "#target_point = np.array([-0.160938, 0.752753, 2.82129])\n",
      "#target_point = np.array([-0.165899, 0.990274, 6.2703])\n",
      "#target_point = np.array([-0.387776, 0.357946, -2.1117])\n",
      "#target_point = np.array([0.252365, 0.769792, 5.80838])\n",
      "#target_point = np.array([0.801777, 0.72545, 13.814])\n",
      "#target_point = np.array([0.131742, 0.528943, -3.84111])\n",
      "#target_point = np.array([0.406818, 1.12104, 14.7508])\n",
      "#target_point = np.array([-0.109546, 0.794057, -4.72881])\n",
      "target_point = np.array([0.0501395, 1.3243, -7.43127])\n",
      "closeness_threshold = 0.001"
     ],
     "language": "python",
     "metadata": {},
     "outputs": [],
     "prompt_number": 424
    },
    {
     "cell_type": "code",
     "collapsed": false,
     "input": [
      "coordinates = []\n",
      "target_point_index = -1\n",
      "number_of_points = vtk_mesh.GetNumberOfPoints()\n",
      "vtk_points = vtk_mesh.GetPoints();\n",
      "for i in range(0,number_of_points):\n",
      "    coordinates.append(vtk_points.GetPoint(i))\n",
      "    #print np.linalg.norm(np.array(coordinates[i])-target_point)\n",
      "    if (np.linalg.norm(np.array(coordinates[i])-target_point)<closeness_threshold):\n",
      "        target_point_index = i\n",
      "coordinates_np = np.array(coordinates)\n",
      "print target_point_index, number_of_points"
     ],
     "language": "python",
     "metadata": {},
     "outputs": [
      {
       "output_type": "stream",
       "stream": "stdout",
       "text": [
        "-1 2902\n"
       ]
      }
     ],
     "prompt_number": 425
    },
    {
     "cell_type": "code",
     "collapsed": false,
     "input": [
      "def getValueArrayFromVtk(vtk_reader, array_name):\n",
      "    vtk_array = vtk_reader.GetPointData().GetArray(array_name)\n",
      "    array = []\n",
      "    for i in range(0,vtk_reader.GetNumberOfPoints()):\n",
      "        array.append(vtk_array.GetValue(i))\n",
      "    return array"
     ],
     "language": "python",
     "metadata": {},
     "outputs": [],
     "prompt_number": 426
    },
    {
     "cell_type": "code",
     "collapsed": false,
     "input": [
      "def getTupleArrayFromVtk(vtk_reader, array_name):\n",
      "    vtk_array = vtk_reader.GetPointData().GetArray(array_name)\n",
      "    array = []\n",
      "    for i in range(0,vtk_reader.GetNumberOfPoints()):\n",
      "        array.append(vtk_array.GetTuple(i))\n",
      "    return array"
     ],
     "language": "python",
     "metadata": {},
     "outputs": [],
     "prompt_number": 427
    },
    {
     "cell_type": "code",
     "collapsed": false,
     "input": [
      "def getTupleArrayFromVtkXYZ(vtk_reader, array_name):\n",
      "    vtk_arrayX = getTupleArrayFromVtk(vtk_reader, array_name+\"X\");\n",
      "    vtk_arrayY = getTupleArrayFromVtk(vtk_reader, array_name+\"Y\");\n",
      "    vtk_arrayZ = getTupleArrayFromVtk(vtk_reader, array_name+\"Z\");\n",
      "    array = []\n",
      "    for i in range(0,vtk_reader.GetNumberOfPoints()):\n",
      "        array.append((vtk_arrayX[i][0],vtk_arrayY[i][0],vtk_arrayZ[i][0]))\n",
      "    return array"
     ],
     "language": "python",
     "metadata": {},
     "outputs": [],
     "prompt_number": 428
    },
    {
     "cell_type": "code",
     "collapsed": false,
     "input": [
      "ion_densities = []\n",
      "ion_densities_scan = []\n",
      "potentials = []\n",
      "potentials_scan = []\n",
      "ion_velocities = []\n",
      "for vtk_reader in vtk_readers:\n",
      "    ion_densities.append(getTupleArrayFromVtk(vtk_reader, \"ionDensity\"))\n",
      "    ion_densities_scan.append(getTupleArrayFromVtk(vtk_reader, \"ionDensityScan\"))\n",
      "    #potentials.append(getTupleArrayFromVtk(vtk_reader, \"previousPotential\"))\n",
      "    potentials_scan.append(getTupleArrayFromVtk(vtk_reader, \"potentialScan\"))\n",
      "    ion_velocities.append(getTupleArrayFromVtk(vtk_reader, \"ionVelocityScan\"))\n",
      "ion_densities_np = np.array(ion_densities)\n",
      "potentials_np = np.array(potentials)\n",
      "ion_velocities_np = np.array(ion_velocities)"
     ],
     "language": "python",
     "metadata": {},
     "outputs": [],
     "prompt_number": 429
    },
    {
     "cell_type": "code",
     "collapsed": false,
     "input": [
      "plt.clf()\n",
      "\n",
      "fig, axes = plt.subplots(nrows=1, ncols=7, figsize=(24,4))\n",
      "i=0\n",
      "j=0\n",
      "for ax in axes:\n",
      "    if (i<len(file_names)):\n",
      "        print i, target_point_index+j\n",
      "        x = potentials_scan[i][target_point_index+j]\n",
      "        y = ion_densities_scan[i][target_point_index+j]\n",
      "        sct = ax.scatter(x,y)\n",
      "        #print y[0], y[1]\n",
      "        y = np.exp(potentials_scan[i][target_point_index+j])\n",
      "        sct = ax.scatter(x,y,color='red')\n",
      "        x = potentials_scan[i][target_point_index+j][0]\n",
      "        y = ion_densities[i][target_point_index+j]\n",
      "        sct = ax.scatter(x,y,color='green')\n",
      "        ax.set_xlim([-0.8,0.2])\n",
      "        ax.set_ylim([0,1.2])\n",
      "        #print y[0]\n",
      "        #i = i+1\n",
      "        j = j+100\n",
      "\n",
      "#plt.savefig(\"data.svg\")\n",
      "#IPdisp.SVG(filename=\"data.svg\")\n",
      "plt.savefig(\"data.png\")\n",
      "IPdisp.Image(filename=\"data.png\")"
     ],
     "language": "python",
     "metadata": {},
     "outputs": [
      {
       "output_type": "stream",
       "stream": "stdout",
       "text": [
        "0 -1\n",
        "0 99\n",
        "0 199\n",
        "0 299\n",
        "0 399\n",
        "0 499\n",
        "0"
       ]
      },
      {
       "output_type": "stream",
       "stream": "stdout",
       "text": [
        " 599\n"
       ]
      },
      {
       "output_type": "pyout",
       "png": "[encoded data removed]",
       "prompt_number": 430,
       "text": [
        "<IPython.core.display.Image at 0x1409f390>"
       ]
      }
     ],
     "prompt_number": 430
    },
    {
     "cell_type": "code",
     "collapsed": false,
     "input": [
      "coordinates_np_tranpose = np.transpose(coordinates_np)\n",
      "#indices = range(0,number_of_points)\n",
      "indices = np.logical_and(abs(potentials_np[1]-potentials_np[0])==0.0, potentials_np[0]!=0.)\n",
      "#indices = potentials_np[0]==0.\n",
      "x = coordinates_np_tranpose[0][indices]\n",
      "y = coordinates_np_tranpose[1][indices]\n",
      "z = coordinates_np_tranpose[2][indices]"
     ],
     "language": "python",
     "metadata": {},
     "outputs": [
      {
       "ename": "IndexError",
       "evalue": "index 1 is out of bounds for axis 0 with size 0",
       "output_type": "pyerr",
       "traceback": [
        "\u001b[1;31m---------------------------------------------------------------------------\u001b[0m\n\u001b[1;31mIndexError\u001b[0m                                Traceback (most recent call last)",
        "\u001b[1;32m<ipython-input-431-7de8e988b320>\u001b[0m in \u001b[0;36m<module>\u001b[1;34m()\u001b[0m\n\u001b[0;32m      1\u001b[0m \u001b[0mcoordinates_np_tranpose\u001b[0m \u001b[1;33m=\u001b[0m \u001b[0mnp\u001b[0m\u001b[1;33m.\u001b[0m\u001b[0mtranspose\u001b[0m\u001b[1;33m(\u001b[0m\u001b[0mcoordinates_np\u001b[0m\u001b[1;33m)\u001b[0m\u001b[1;33m\u001b[0m\u001b[0m\n\u001b[0;32m      2\u001b[0m \u001b[1;31m#indices = range(0,number_of_points)\u001b[0m\u001b[1;33m\u001b[0m\u001b[1;33m\u001b[0m\u001b[0m\n\u001b[1;32m----> 3\u001b[1;33m \u001b[0mindices\u001b[0m \u001b[1;33m=\u001b[0m \u001b[0mnp\u001b[0m\u001b[1;33m.\u001b[0m\u001b[0mlogical_and\u001b[0m\u001b[1;33m(\u001b[0m\u001b[0mabs\u001b[0m\u001b[1;33m(\u001b[0m\u001b[0mpotentials_np\u001b[0m\u001b[1;33m[\u001b[0m\u001b[1;36m1\u001b[0m\u001b[1;33m]\u001b[0m\u001b[1;33m-\u001b[0m\u001b[0mpotentials_np\u001b[0m\u001b[1;33m[\u001b[0m\u001b[1;36m0\u001b[0m\u001b[1;33m]\u001b[0m\u001b[1;33m)\u001b[0m\u001b[1;33m==\u001b[0m\u001b[1;36m0.0\u001b[0m\u001b[1;33m,\u001b[0m \u001b[0mpotentials_np\u001b[0m\u001b[1;33m[\u001b[0m\u001b[1;36m0\u001b[0m\u001b[1;33m]\u001b[0m\u001b[1;33m!=\u001b[0m\u001b[1;36m0.\u001b[0m\u001b[1;33m)\u001b[0m\u001b[1;33m\u001b[0m\u001b[0m\n\u001b[0m\u001b[0;32m      4\u001b[0m \u001b[1;31m#indices = potentials_np[0]==0.\u001b[0m\u001b[1;33m\u001b[0m\u001b[1;33m\u001b[0m\u001b[0m\n\u001b[0;32m      5\u001b[0m \u001b[0mx\u001b[0m \u001b[1;33m=\u001b[0m \u001b[0mcoordinates_np_tranpose\u001b[0m\u001b[1;33m[\u001b[0m\u001b[1;36m0\u001b[0m\u001b[1;33m]\u001b[0m\u001b[1;33m[\u001b[0m\u001b[0mindices\u001b[0m\u001b[1;33m]\u001b[0m\u001b[1;33m\u001b[0m\u001b[0m\n",
        "\u001b[1;31mIndexError\u001b[0m: index 1 is out of bounds for axis 0 with size 0"
       ]
      }
     ],
     "prompt_number": 431
    },
    {
     "cell_type": "code",
     "collapsed": false,
     "input": [
      "plt.clf()\n",
      "\n",
      "fig, axes = plt.subplots(nrows=1, ncols=2, figsize=(24,12), subplot_kw=dict(projection='3d'))\n",
      "#for ax in axes.flat:\n",
      "#    ax.scatter(x,y,z)\n",
      "sct = axes[0].scatter(x,y,z)\n",
      "axes[0].view_init(0,0)\n",
      "\n",
      "#plt.savefig(\"data.svg\")\n",
      "#IPdisp.SVG(filename=\"data.svg\")\n",
      "plt.savefig(\"data.png\")\n",
      "IPdisp.Image(filename=\"data.png\")"
     ],
     "language": "python",
     "metadata": {},
     "outputs": []
    },
    {
     "cell_type": "code",
     "collapsed": false,
     "input": [],
     "language": "python",
     "metadata": {},
     "outputs": []
    },
    {
     "cell_type": "code",
     "collapsed": false,
     "input": [],
     "language": "python",
     "metadata": {},
     "outputs": []
    }
   ],
   "metadata": {}
  }
 ]
}